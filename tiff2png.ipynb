{
 "cells": [
  {
   "cell_type": "code",
   "execution_count": null,
   "id": "c9dfa593",
   "metadata": {},
   "outputs": [],
   "source": [
    "import rasterio\n",
    "import cv2\n",
    "import numpy as np\n",
    "from pathlib import Path"
   ]
  },
  {
   "cell_type": "code",
   "execution_count": null,
   "id": "b6c625f9",
   "metadata": {},
   "outputs": [],
   "source": [
    "\n",
    "def convert_tif_to_png(tif_path, png_path):\n",
    "    with rasterio.open(tif_path, \"r\") as tif_file:\n",
    "        # Convert to numpy arrays\n",
    "        bands = tif_file.read()\n",
    "        rgb = bands[:3, ...]\n",
    "        rgb = np.moveaxis(rgb, 0, 2).astype(np.float32)\n",
    "        cv2.imwrite(str(png_path), cv2.cvtColor(rgb, cv2.COLOR_RGB2BGR))\n",
    "\n",
    "if __name__ == '__main__':\n",
    "    tifs_path = Path(r\"C:/Users/Josef2/anaconda3/Codes/spacenet/images\")\n",
    "    output_path = Path(r\"C:/Users/Josef2/anaconda3/Codes/spacenet/pop\")\n",
    "\n",
    "    for tif_file in tifs_path.glob(\"**/*.tif\"):\n",
    "        relative_path = tif_file.relative_to(tifs_path)\n",
    "        png_path = output_path / relative_path.with_suffix(\".png\")\n",
    "        png_path.parent.mkdir(parents=True, exist_ok=True)\n",
    "        convert_tif_to_png(tif_file, png_path)\n"
   ]
  }
 ],
 "metadata": {
  "kernelspec": {
   "display_name": "Python 3 (ipykernel)",
   "language": "python",
   "name": "python3"
  },
  "language_info": {
   "codemirror_mode": {
    "name": "ipython",
    "version": 3
   },
   "file_extension": ".py",
   "mimetype": "text/x-python",
   "name": "python",
   "nbconvert_exporter": "python",
   "pygments_lexer": "ipython3",
   "version": "3.7.16"
  }
 },
 "nbformat": 4,
 "nbformat_minor": 5
}
