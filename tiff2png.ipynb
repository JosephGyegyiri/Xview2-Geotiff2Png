{
 "cells": [
  {
   "cell_type": "code",
   "execution_count": 2,
   "id": "c9dfa593",
   "metadata": {},
   "outputs": [],
   "source": [
    "import rasterio\n",
    "import cv2\n",
    "import numpy as np\n",
    "from pathlib import Path"
   ]
  },
  {
   "cell_type": "code",
   "execution_count": 3,
   "id": "b6c625f9",
   "metadata": {},
   "outputs": [
    {
     "ename": "RasterioIOError",
     "evalue": "'Z:/profile_documents/My Documents/DeepL/geotiffs/hold/images/Thumbs.db' not recognized as a supported file format.",
     "output_type": "error",
     "traceback": [
      "\u001b[1;31m---------------------------------------------------------------------------\u001b[0m",
      "\u001b[1;31mCPLE_OpenFailedError\u001b[0m                      Traceback (most recent call last)",
      "File \u001b[1;32mrasterio\\_base.pyx:308\u001b[0m, in \u001b[0;36mrasterio._base.DatasetBase.__init__\u001b[1;34m()\u001b[0m\n",
      "File \u001b[1;32mrasterio\\_base.pyx:219\u001b[0m, in \u001b[0;36mrasterio._base.open_dataset\u001b[1;34m()\u001b[0m\n",
      "File \u001b[1;32mrasterio\\_err.pyx:221\u001b[0m, in \u001b[0;36mrasterio._err.exc_wrap_pointer\u001b[1;34m()\u001b[0m\n",
      "\u001b[1;31mCPLE_OpenFailedError\u001b[0m: 'Z:/profile_documents/My Documents/DeepL/geotiffs/hold/images/Thumbs.db' not recognized as a supported file format.",
      "\nDuring handling of the above exception, another exception occurred:\n",
      "\u001b[1;31mRasterioIOError\u001b[0m                           Traceback (most recent call last)",
      "Cell \u001b[1;32mIn[3], line 18\u001b[0m\n\u001b[0;32m     16\u001b[0m png_name \u001b[38;5;241m=\u001b[39m tif_file\u001b[38;5;241m.\u001b[39mname\u001b[38;5;241m.\u001b[39mreplace(\u001b[38;5;124m'\u001b[39m\u001b[38;5;124m.tif\u001b[39m\u001b[38;5;124m'\u001b[39m,\u001b[38;5;124m'\u001b[39m\u001b[38;5;124m.png\u001b[39m\u001b[38;5;124m'\u001b[39m)\n\u001b[0;32m     17\u001b[0m png_path \u001b[38;5;241m=\u001b[39m pngs_path \u001b[38;5;241m/\u001b[39m png_name\n\u001b[1;32m---> 18\u001b[0m \u001b[43mconvert_tif_to_png\u001b[49m\u001b[43m(\u001b[49m\u001b[43mtif_file\u001b[49m\u001b[43m,\u001b[49m\u001b[43m \u001b[49m\u001b[43mpng_path\u001b[49m\u001b[43m)\u001b[49m\n",
      "Cell \u001b[1;32mIn[3], line 2\u001b[0m, in \u001b[0;36mconvert_tif_to_png\u001b[1;34m(tif_path, png_path)\u001b[0m\n\u001b[0;32m      1\u001b[0m \u001b[38;5;28;01mdef\u001b[39;00m \u001b[38;5;21mconvert_tif_to_png\u001b[39m(tif_path, png_path):\n\u001b[1;32m----> 2\u001b[0m     \u001b[38;5;28;01mwith\u001b[39;00m \u001b[43mrasterio\u001b[49m\u001b[38;5;241;43m.\u001b[39;49m\u001b[43mopen\u001b[49m\u001b[43m(\u001b[49m\u001b[43mtif_path\u001b[49m\u001b[43m,\u001b[49m\u001b[43m \u001b[49m\u001b[38;5;124;43m\"\u001b[39;49m\u001b[38;5;124;43mr\u001b[39;49m\u001b[38;5;124;43m\"\u001b[39;49m\u001b[43m)\u001b[49m \u001b[38;5;28;01mas\u001b[39;00m tif_file:\n\u001b[0;32m      3\u001b[0m         \u001b[38;5;66;03m# Convert to numpy arrays\u001b[39;00m\n\u001b[0;32m      4\u001b[0m         bands \u001b[38;5;241m=\u001b[39m tif_file\u001b[38;5;241m.\u001b[39mread()\n\u001b[0;32m      5\u001b[0m         rgb \u001b[38;5;241m=\u001b[39m bands[:\u001b[38;5;241m3\u001b[39m, \u001b[38;5;241m.\u001b[39m\u001b[38;5;241m.\u001b[39m\u001b[38;5;241m.\u001b[39m]\n",
      "File \u001b[1;32m~\\AppData\\Local\\anaconda3\\envs\\DeepL\\lib\\site-packages\\rasterio\\env.py:451\u001b[0m, in \u001b[0;36mensure_env_with_credentials.<locals>.wrapper\u001b[1;34m(*args, **kwds)\u001b[0m\n\u001b[0;32m    448\u001b[0m     session \u001b[38;5;241m=\u001b[39m DummySession()\n\u001b[0;32m    450\u001b[0m \u001b[38;5;28;01mwith\u001b[39;00m env_ctor(session\u001b[38;5;241m=\u001b[39msession):\n\u001b[1;32m--> 451\u001b[0m     \u001b[38;5;28;01mreturn\u001b[39;00m f(\u001b[38;5;241m*\u001b[39margs, \u001b[38;5;241m*\u001b[39m\u001b[38;5;241m*\u001b[39mkwds)\n",
      "File \u001b[1;32m~\\AppData\\Local\\anaconda3\\envs\\DeepL\\lib\\site-packages\\rasterio\\__init__.py:304\u001b[0m, in \u001b[0;36mopen\u001b[1;34m(fp, mode, driver, width, height, count, crs, transform, dtype, nodata, sharing, **kwargs)\u001b[0m\n\u001b[0;32m    301\u001b[0m path \u001b[38;5;241m=\u001b[39m _parse_path(raw_dataset_path)\n\u001b[0;32m    303\u001b[0m \u001b[38;5;28;01mif\u001b[39;00m mode \u001b[38;5;241m==\u001b[39m \u001b[38;5;124m\"\u001b[39m\u001b[38;5;124mr\u001b[39m\u001b[38;5;124m\"\u001b[39m:\n\u001b[1;32m--> 304\u001b[0m     dataset \u001b[38;5;241m=\u001b[39m DatasetReader(path, driver\u001b[38;5;241m=\u001b[39mdriver, sharing\u001b[38;5;241m=\u001b[39msharing, \u001b[38;5;241m*\u001b[39m\u001b[38;5;241m*\u001b[39mkwargs)\n\u001b[0;32m    305\u001b[0m \u001b[38;5;28;01melif\u001b[39;00m mode \u001b[38;5;241m==\u001b[39m \u001b[38;5;124m\"\u001b[39m\u001b[38;5;124mr+\u001b[39m\u001b[38;5;124m\"\u001b[39m:\n\u001b[0;32m    306\u001b[0m     dataset \u001b[38;5;241m=\u001b[39m get_writer_for_path(path, driver\u001b[38;5;241m=\u001b[39mdriver)(\n\u001b[0;32m    307\u001b[0m         path, mode, driver\u001b[38;5;241m=\u001b[39mdriver, sharing\u001b[38;5;241m=\u001b[39msharing, \u001b[38;5;241m*\u001b[39m\u001b[38;5;241m*\u001b[39mkwargs\n\u001b[0;32m    308\u001b[0m     )\n",
      "File \u001b[1;32mrasterio\\_base.pyx:310\u001b[0m, in \u001b[0;36mrasterio._base.DatasetBase.__init__\u001b[1;34m()\u001b[0m\n",
      "\u001b[1;31mRasterioIOError\u001b[0m: 'Z:/profile_documents/My Documents/DeepL/geotiffs/hold/images/Thumbs.db' not recognized as a supported file format."
     ]
    }
   ],
   "source": [
    "\n",
    "def convert_tif_to_png(tif_path, png_path):\n",
    "    with rasterio.open(tif_path, \"r\") as tif_file:\n",
    "        # Convert to numpy arrays\n",
    "        bands = tif_file.read()\n",
    "        rgb = bands[:3, ...]\n",
    "        rgb = np.moveaxis(rgb, 0, 2).astype(np.float32)\n",
    "        cv2.imwrite(\n",
    "            filename=str(png_path), img=cv2.cvtColor(rgb, cv2.COLOR_RGB2BGR)\n",
    "        )\n",
    "\n",
    "if __name__ == '__main__':\n",
    "    tifs_path = Path(r\"Z:/profile_documents/My Documents/DeepL/geotiffs/hold/images\")\n",
    "    pngs_path = Path(r\"Z:/profile_documents/My Documents/DeepL/xviewdataset/hold/images\")\n",
    "\n",
    "    for tif_file in tifs_path.iterdir():\n",
    "        png_name = tif_file.name.replace('.tif','.png')\n",
    "        png_path = pngs_path / png_name\n",
    "        convert_tif_to_png(tif_file, png_path)"
   ]
  },
  {
   "cell_type": "code",
   "execution_count": 4,
   "id": "7d701e73-5931-4a50-b395-779f924751f0",
   "metadata": {},
   "outputs": [
    {
     "ename": "RasterioIOError",
     "evalue": "'Z:/profile_documents/My Documents/DeepL/geotiffs/test/images/Thumbs.db' not recognized as a supported file format.",
     "output_type": "error",
     "traceback": [
      "\u001b[1;31m---------------------------------------------------------------------------\u001b[0m",
      "\u001b[1;31mCPLE_OpenFailedError\u001b[0m                      Traceback (most recent call last)",
      "File \u001b[1;32mrasterio\\_base.pyx:308\u001b[0m, in \u001b[0;36mrasterio._base.DatasetBase.__init__\u001b[1;34m()\u001b[0m\n",
      "File \u001b[1;32mrasterio\\_base.pyx:219\u001b[0m, in \u001b[0;36mrasterio._base.open_dataset\u001b[1;34m()\u001b[0m\n",
      "File \u001b[1;32mrasterio\\_err.pyx:221\u001b[0m, in \u001b[0;36mrasterio._err.exc_wrap_pointer\u001b[1;34m()\u001b[0m\n",
      "\u001b[1;31mCPLE_OpenFailedError\u001b[0m: 'Z:/profile_documents/My Documents/DeepL/geotiffs/test/images/Thumbs.db' not recognized as a supported file format.",
      "\nDuring handling of the above exception, another exception occurred:\n",
      "\u001b[1;31mRasterioIOError\u001b[0m                           Traceback (most recent call last)",
      "Cell \u001b[1;32mIn[4], line 18\u001b[0m\n\u001b[0;32m     16\u001b[0m png_name \u001b[38;5;241m=\u001b[39m tif_file\u001b[38;5;241m.\u001b[39mname\u001b[38;5;241m.\u001b[39mreplace(\u001b[38;5;124m'\u001b[39m\u001b[38;5;124m.tif\u001b[39m\u001b[38;5;124m'\u001b[39m,\u001b[38;5;124m'\u001b[39m\u001b[38;5;124m.png\u001b[39m\u001b[38;5;124m'\u001b[39m)\n\u001b[0;32m     17\u001b[0m png_path \u001b[38;5;241m=\u001b[39m pngs_path \u001b[38;5;241m/\u001b[39m png_name\n\u001b[1;32m---> 18\u001b[0m \u001b[43mconvert_tif_to_png\u001b[49m\u001b[43m(\u001b[49m\u001b[43mtif_file\u001b[49m\u001b[43m,\u001b[49m\u001b[43m \u001b[49m\u001b[43mpng_path\u001b[49m\u001b[43m)\u001b[49m\n",
      "Cell \u001b[1;32mIn[4], line 2\u001b[0m, in \u001b[0;36mconvert_tif_to_png\u001b[1;34m(tif_path, png_path)\u001b[0m\n\u001b[0;32m      1\u001b[0m \u001b[38;5;28;01mdef\u001b[39;00m \u001b[38;5;21mconvert_tif_to_png\u001b[39m(tif_path, png_path):\n\u001b[1;32m----> 2\u001b[0m     \u001b[38;5;28;01mwith\u001b[39;00m \u001b[43mrasterio\u001b[49m\u001b[38;5;241;43m.\u001b[39;49m\u001b[43mopen\u001b[49m\u001b[43m(\u001b[49m\u001b[43mtif_path\u001b[49m\u001b[43m,\u001b[49m\u001b[43m \u001b[49m\u001b[38;5;124;43m\"\u001b[39;49m\u001b[38;5;124;43mr\u001b[39;49m\u001b[38;5;124;43m\"\u001b[39;49m\u001b[43m)\u001b[49m \u001b[38;5;28;01mas\u001b[39;00m tif_file:\n\u001b[0;32m      3\u001b[0m         \u001b[38;5;66;03m# Convert to numpy arrays\u001b[39;00m\n\u001b[0;32m      4\u001b[0m         bands \u001b[38;5;241m=\u001b[39m tif_file\u001b[38;5;241m.\u001b[39mread()\n\u001b[0;32m      5\u001b[0m         rgb \u001b[38;5;241m=\u001b[39m bands[:\u001b[38;5;241m3\u001b[39m, \u001b[38;5;241m.\u001b[39m\u001b[38;5;241m.\u001b[39m\u001b[38;5;241m.\u001b[39m]\n",
      "File \u001b[1;32m~\\AppData\\Local\\anaconda3\\envs\\DeepL\\lib\\site-packages\\rasterio\\env.py:451\u001b[0m, in \u001b[0;36mensure_env_with_credentials.<locals>.wrapper\u001b[1;34m(*args, **kwds)\u001b[0m\n\u001b[0;32m    448\u001b[0m     session \u001b[38;5;241m=\u001b[39m DummySession()\n\u001b[0;32m    450\u001b[0m \u001b[38;5;28;01mwith\u001b[39;00m env_ctor(session\u001b[38;5;241m=\u001b[39msession):\n\u001b[1;32m--> 451\u001b[0m     \u001b[38;5;28;01mreturn\u001b[39;00m f(\u001b[38;5;241m*\u001b[39margs, \u001b[38;5;241m*\u001b[39m\u001b[38;5;241m*\u001b[39mkwds)\n",
      "File \u001b[1;32m~\\AppData\\Local\\anaconda3\\envs\\DeepL\\lib\\site-packages\\rasterio\\__init__.py:304\u001b[0m, in \u001b[0;36mopen\u001b[1;34m(fp, mode, driver, width, height, count, crs, transform, dtype, nodata, sharing, **kwargs)\u001b[0m\n\u001b[0;32m    301\u001b[0m path \u001b[38;5;241m=\u001b[39m _parse_path(raw_dataset_path)\n\u001b[0;32m    303\u001b[0m \u001b[38;5;28;01mif\u001b[39;00m mode \u001b[38;5;241m==\u001b[39m \u001b[38;5;124m\"\u001b[39m\u001b[38;5;124mr\u001b[39m\u001b[38;5;124m\"\u001b[39m:\n\u001b[1;32m--> 304\u001b[0m     dataset \u001b[38;5;241m=\u001b[39m DatasetReader(path, driver\u001b[38;5;241m=\u001b[39mdriver, sharing\u001b[38;5;241m=\u001b[39msharing, \u001b[38;5;241m*\u001b[39m\u001b[38;5;241m*\u001b[39mkwargs)\n\u001b[0;32m    305\u001b[0m \u001b[38;5;28;01melif\u001b[39;00m mode \u001b[38;5;241m==\u001b[39m \u001b[38;5;124m\"\u001b[39m\u001b[38;5;124mr+\u001b[39m\u001b[38;5;124m\"\u001b[39m:\n\u001b[0;32m    306\u001b[0m     dataset \u001b[38;5;241m=\u001b[39m get_writer_for_path(path, driver\u001b[38;5;241m=\u001b[39mdriver)(\n\u001b[0;32m    307\u001b[0m         path, mode, driver\u001b[38;5;241m=\u001b[39mdriver, sharing\u001b[38;5;241m=\u001b[39msharing, \u001b[38;5;241m*\u001b[39m\u001b[38;5;241m*\u001b[39mkwargs\n\u001b[0;32m    308\u001b[0m     )\n",
      "File \u001b[1;32mrasterio\\_base.pyx:310\u001b[0m, in \u001b[0;36mrasterio._base.DatasetBase.__init__\u001b[1;34m()\u001b[0m\n",
      "\u001b[1;31mRasterioIOError\u001b[0m: 'Z:/profile_documents/My Documents/DeepL/geotiffs/test/images/Thumbs.db' not recognized as a supported file format."
     ]
    }
   ],
   "source": [
    "def convert_tif_to_png(tif_path, png_path):\n",
    "    with rasterio.open(tif_path, \"r\") as tif_file:\n",
    "        # Convert to numpy arrays\n",
    "        bands = tif_file.read()\n",
    "        rgb = bands[:3, ...]\n",
    "        rgb = np.moveaxis(rgb, 0, 2).astype(np.float32)\n",
    "        cv2.imwrite(\n",
    "            filename=str(png_path), img=cv2.cvtColor(rgb, cv2.COLOR_RGB2BGR)\n",
    "        )\n",
    "\n",
    "if __name__ == '__main__':\n",
    "    tifs_path = Path(r\"Z:/profile_documents/My Documents/DeepL/geotiffs/test/images\")\n",
    "    pngs_path = Path(r\"Z:/profile_documents/My Documents/DeepL/xviewdataset/test/images\")\n",
    "\n",
    "    for tif_file in tifs_path.iterdir():\n",
    "        png_name = tif_file.name.replace('.tif','.png')\n",
    "        png_path = pngs_path / png_name\n",
    "        convert_tif_to_png(tif_file, png_path)"
   ]
  },
  {
   "cell_type": "code",
   "execution_count": 10,
   "id": "623f21ea-6a06-4649-b3f0-c0e1879701c9",
   "metadata": {},
   "outputs": [],
   "source": [
    "def convert_tif_to_png(tif_path, png_path):\n",
    "    with rasterio.open(tif_path, \"r\") as tif_file:\n",
    "        if tif_file.name.lower().endswith('.tif'):\n",
    "        # Convert to numpy arrays\n",
    "            bands = tif_file.read()\n",
    "            rgb = bands[:3, ...]\n",
    "            rgb = np.moveaxis(rgb, 0, 2).astype(np.float32)\n",
    "            cv2.imwrite(\n",
    "                filename=str(png_path), img=cv2.cvtColor(rgb, cv2.COLOR_RGB2BGR)\n",
    "            )\n",
    "        \n",
    "\n",
    "if __name__ == '__main__':\n",
    "    tifs_path = Path(r\"Z:/profile_documents/My Documents/DeepL/geotiffs/tier3/images\")\n",
    "    pngs_path = Path(r\"Z:/profile_documents/My Documents/DeepL/xviewdataset/tier3/images\")\n",
    "\n",
    "    for tif_file in tifs_path.iterdir():\n",
    "         if tif_file.is_file() and tif_file.suffix.lower() == '.tif':\n",
    "            if tif_file.stem + '.aux.xml' in tifs_path.iterdir():\n",
    "                continue  # Skip files with .aux.xml extension\n",
    "            png_name = tif_file.stem + '.png'\n",
    "            png_path = pngs_path / png_name\n",
    "            convert_tif_to_png(tif_file, png_path)\n"
   ]
  },
  {
   "cell_type": "code",
   "execution_count": 11,
   "id": "66ef3ce4-2de7-421e-82ff-a64e33bfa7a1",
   "metadata": {},
   "outputs": [],
   "source": [
    "def convert_tif_to_png(tif_path, png_path):\n",
    "    with rasterio.open(tif_path, \"r\") as tif_file:\n",
    "        if tif_file.name.lower().endswith('.tif'):\n",
    "        # Convert to numpy arrays\n",
    "            bands = tif_file.read()\n",
    "            rgb = bands[:3, ...]\n",
    "            rgb = np.moveaxis(rgb, 0, 2).astype(np.float32)\n",
    "            cv2.imwrite(\n",
    "                filename=str(png_path), img=cv2.cvtColor(rgb, cv2.COLOR_RGB2BGR)\n",
    "            )\n",
    "        \n",
    "\n",
    "if __name__ == '__main__':\n",
    "    tifs_path = Path(r\"Z:/profile_documents/My Documents/DeepL/geotiffs/train/images\")\n",
    "    pngs_path = Path(r\"Z:/profile_documents/My Documents/DeepL/xviewdataset/train/images\")\n",
    "\n",
    "    for tif_file in tifs_path.iterdir():\n",
    "         if tif_file.is_file() and tif_file.suffix.lower() == '.tif':\n",
    "            if tif_file.stem + '.aux.xml' in tifs_path.iterdir():\n",
    "                continue  # Skip files with .aux.xml extension\n",
    "            png_name = tif_file.stem + '.png'\n",
    "            png_path = pngs_path / png_name\n",
    "            convert_tif_to_png(tif_file, png_path)"
   ]
  },
  {
   "cell_type": "code",
   "execution_count": null,
   "id": "724c19ee-e2e9-49b4-8768-41a9339200ce",
   "metadata": {},
   "outputs": [],
   "source": []
  }
 ],
 "metadata": {
  "kernelspec": {
   "display_name": "Python 3 (ipykernel)",
   "language": "python",
   "name": "python3"
  },
  "language_info": {
   "codemirror_mode": {
    "name": "ipython",
    "version": 3
   },
   "file_extension": ".py",
   "mimetype": "text/x-python",
   "name": "python",
   "nbconvert_exporter": "python",
   "pygments_lexer": "ipython3",
   "version": "3.10.11"
  }
 },
 "nbformat": 4,
 "nbformat_minor": 5
}
